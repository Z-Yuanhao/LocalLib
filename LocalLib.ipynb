{
 "cells": [
  {
   "cell_type": "code",
   "execution_count": 2,
   "metadata": {},
   "outputs": [],
   "source": [
    "#Manage Imports\n",
    "#llamaindex stuff\n",
    "from llama_index.llms.ollama import Ollama\n",
    "from llama_index.embeddings.huggingface import HuggingFaceEmbedding\n",
    "from llama_index.core import (\n",
    "    Settings,\n",
    "    SimpleDirectoryReader,\n",
    "    Document\n",
    ")\n",
    "\n",
    "#Document Readers\n",
    "import ebooklib\n",
    "from bs4 import BeautifulSoup\n",
    "from ebooklib import epub\n",
    "\n",
    "#Initalize LLM and Embedding Model\n",
    "llm = Ollama(model=\"llama3.2:latest\", temperature=0)\n",
    "embed_model = HuggingFaceEmbedding(model_name=\"BAAI/bge-small-en-v1.5\")\n",
    "\n",
    "#Settings the models to be used\n",
    "Settings.llm = llm\n",
    "Settings.embed_model = embed_model\n",
    "#Settings for the chunk size and overlap for efficient embedding at VectorStoreIndex\n",
    "Settings.chunk_size = 512\n",
    "Settings.chunk_overlap = 30"
   ]
  },
  {
   "cell_type": "code",
   "execution_count": null,
   "metadata": {},
   "outputs": [
    {
     "name": "stdout",
     "output_type": "stream",
     "text": [
      "Loading Ebook through Epub Reader.\n",
      "Loaded Ebook of Title : Pride and Prejudice\n"
     ]
    },
    {
     "name": "stderr",
     "output_type": "stream",
     "text": [
      "/Users/yh.z/miniforge3/envs/newenv/lib/python3.10/site-packages/ebooklib/epub.py:1395: UserWarning: In the future version we will turn default option ignore_ncx to True.\n",
      "  warnings.warn('In the future version we will turn default option ignore_ncx to True.')\n",
      "/Users/yh.z/miniforge3/envs/newenv/lib/python3.10/site-packages/ebooklib/epub.py:1423: FutureWarning: This search incorrectly ignores the root element, and will be fixed in a future version.  If you rely on the current behaviour, change it to './/xmlns:rootfile[@media-type]'\n",
      "  for root_file in tree.findall('//xmlns:rootfile[@media-type]', namespaces={'xmlns': NAMESPACES['CONTAINERNS']}):\n"
     ]
    }
   ],
   "source": [
    "debug = True\n",
    "\n",
    "#Document Processing\n",
    "file_name = input(\" Enter the (enter) file name inside the document directory: \")\n",
    "document = 'documents/' + file_name\n",
    "\n",
    "#Ebooks(Text)\n",
    "\n",
    "if file_name.lower().endswith('.epub'):\n",
    "    if debug:\n",
    "        print(\"Loading Ebook through Epub Reader.\")\n",
    "    book = epub.read_epub(document)\n",
    "    #Initialize list to store all the text\n",
    "    all_text = []\n",
    "    if debug and book.get_metadata('DC', 'title'):\n",
    "        print(f\"Loaded Ebook of Title : {book.get_metadata('DC', 'title')[0][0]}\\n\\n\")\n",
    "    else: \n",
    "        print(\"Loading Unssuccessful\\n\\n\")\n",
    "\n",
    "    for item in book.get_items_of_type(ebooklib.ITEM_DOCUMENT):\n",
    "        #Parse it with soup\n",
    "        soup = BeautifulSoup(item.get_content(), 'html.parser')\n",
    "        text = soup.get_text()\n",
    "\n",
    "        all_text.append(text)\n",
    "    \n",
    "    to_read = \"\\n\\n\".join(all_text)\n",
    "    #Creating Document Object so it can be embedded\n",
    "    full_text = Document(text=to_read)\n",
    "    if debug and full_text[0].metadata:\n",
    "        print(\"Converting Document Object\\n\\n\")\n",
    "    else: \n",
    "        print(\"Convertion Unssuccessful\\n\\n\")\n",
    "\n",
    "#More efficient document parsing modules can be added in the future\n",
    "\n",
    "#General Document Loading\n",
    "else:\n",
    "    if debug:\n",
    "        print('Loading Document Object through SimpleDirectoryReader.')\n",
    "    full_text = SimpleDirectoryReader(input_files=[document]).load_data()\n",
    "    if debug and full_text[0].metadata:\n",
    "        print(f\"Loaded Ebook of Title : {full_text[0].metadata['file_name']}\\n\\n\")\n",
    "    else: \n",
    "        print(\"Loading Unssuccessful\\n\\n\")"
   ]
  },
  {
   "cell_type": "code",
   "execution_count": null,
   "metadata": {},
   "outputs": [],
   "source": []
  }
 ],
 "metadata": {
  "kernelspec": {
   "display_name": "newenv",
   "language": "python",
   "name": "python3"
  },
  "language_info": {
   "codemirror_mode": {
    "name": "ipython",
    "version": 3
   },
   "file_extension": ".py",
   "mimetype": "text/x-python",
   "name": "python",
   "nbconvert_exporter": "python",
   "pygments_lexer": "ipython3",
   "version": "3.10.15"
  }
 },
 "nbformat": 4,
 "nbformat_minor": 2
}
