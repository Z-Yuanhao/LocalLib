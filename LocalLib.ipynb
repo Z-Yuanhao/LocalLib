{
 "cells": [
  {
   "cell_type": "markdown",
   "metadata": {},
   "source": [
    "Notebook for Dev Of Main Functions\n",
    "Complete Script Found in FinalProj.py"
   ]
  },
  {
   "cell_type": "code",
   "execution_count": 64,
   "metadata": {},
   "outputs": [],
   "source": [
    "#Manage Imports\n",
    "\n",
    "#llamaindex stuff\n",
    "from llama_index.llms.ollama import Ollama\n",
    "from llama_index.embeddings.huggingface import HuggingFaceEmbedding\n",
    "from llama_index.core.tools import QueryEngineTool, ToolMetadata\n",
    "from llama_index.core.agent import ReActAgent\n",
    "from llama_index.core.schema import IndexNode\n",
    "from llama_index.core.query_engine import CitationQueryEngine\n",
    "from llama_index.core import (\n",
    "    Settings,\n",
    "    Document,\n",
    "    SimpleDirectoryReader,\n",
    "    VectorStoreIndex,\n",
    "    #SummaryIndex,\n",
    ")\n",
    "from llama_index.llms.groq import Groq\n",
    "#Document Readers\n",
    "import ebooklib\n",
    "from bs4 import BeautifulSoup\n",
    "from ebooklib import epub\n",
    "\n",
    "#Initalize LLM and Embedding Model\n",
    "\n",
    "#Using Groq Temporarily due to low computer ram.\n",
    "import os\n",
    "from dotenv import load_dotenv\n",
    "load_dotenv()\n",
    "llm = Groq(model=\"llama3-groq-70b-8192-tool-use-preview\", api_key=(os.getenv(\"GROQ_API_KEY\")))\n",
    "#llm = Ollama(model=\"llama3.2:latest\", temperature=0)\n",
    "embed_model = HuggingFaceEmbedding(model_name=\"BAAI/bge-small-en-v1.5\")\n",
    "\n",
    "#Settings the models to be used\n",
    "Settings.llm = llm\n",
    "Settings.embed_model = embed_model\n",
    "#Settings for the chunk size and overlap for efficient embedding at VectorStoreIndex\n",
    "Settings.chunk_size = 512\n",
    "Settings.chunk_overlap = 30\n",
    "\n",
    "\n",
    "debug = True"
   ]
  },
  {
   "cell_type": "code",
   "execution_count": 66,
   "metadata": {},
   "outputs": [
    {
     "name": "stdout",
     "output_type": "stream",
     "text": [
      "Loading Ebook through Epub Reader.\n",
      "Loaded Ebook of Title : Pride and Prejudice\n",
      "\n",
      "\n"
     ]
    },
    {
     "name": "stderr",
     "output_type": "stream",
     "text": [
      "/Users/yh.z/miniforge3/envs/newenv/lib/python3.10/site-packages/ebooklib/epub.py:1395: UserWarning: In the future version we will turn default option ignore_ncx to True.\n",
      "  warnings.warn('In the future version we will turn default option ignore_ncx to True.')\n",
      "/Users/yh.z/miniforge3/envs/newenv/lib/python3.10/site-packages/ebooklib/epub.py:1423: FutureWarning: This search incorrectly ignores the root element, and will be fixed in a future version.  If you rely on the current behaviour, change it to './/xmlns:rootfile[@media-type]'\n",
      "  for root_file in tree.findall('//xmlns:rootfile[@media-type]', namespaces={'xmlns': NAMESPACES['CONTAINERNS']}):\n"
     ]
    },
    {
     "name": "stdout",
     "output_type": "stream",
     "text": [
      "Converted Document Object\n",
      "\n",
      "\n"
     ]
    }
   ],
   "source": [
    "#Document Processing\n",
    "file_name = input(\" Enter the (enter) file name inside the document directory: \")\n",
    "document = os.path.expanduser(f'~/Workspace/COS243/LocalLib/documents/{file_name}')#adjusted accordingly\n",
    "\n",
    "#Ebooks(Text)\n",
    "\n",
    "if file_name.lower().endswith('.epub'):\n",
    "    if debug:\n",
    "        print(\"Loading Ebook through Epub Reader.\")\n",
    "    book = epub.read_epub(document)\n",
    "    #Initialize list to store all the text\n",
    "    all_text = []\n",
    "    if debug and book.get_metadata('DC', 'title'):\n",
    "        print(f\"Loaded Ebook of Title : {book.get_metadata('DC', 'title')[0][0]}\\n\\n\")\n",
    "    elif debug: \n",
    "        print(\"Loading Unssuccessful\\n\\n\")\n",
    "\n",
    "    for item in book.get_items_of_type(ebooklib.ITEM_DOCUMENT):\n",
    "        #Parse it with soup\n",
    "        soup = BeautifulSoup(item.get_content(), 'html.parser')\n",
    "        text = soup.get_text()\n",
    "\n",
    "        all_text.append(text)\n",
    "    \n",
    "    #Creating Document Object so it can be embedded\n",
    "    full_text = [Document(text=t) for t in all_text]\n",
    "    if debug and full_text:\n",
    "        print(\"Converted Document Object\\n\\n\")\n",
    "    elif debug: \n",
    "        print(\"Convertion Unssuccessful\\n\\n\")\n",
    "\n",
    "#More efficient document parsing modules can be added in the future\n",
    "\n",
    "#General Document Loading\n",
    "else:\n",
    "    if debug:\n",
    "        print('Loading Document Object through SimpleDirectoryReader.')\n",
    "    full_text = SimpleDirectoryReader(input_files=[document]).load_data()\n",
    "    if debug and full_text[0].metadata:\n",
    "        print(f\"Loaded Document of Title : {full_text[0].metadata['file_name']}\\n\\n\")\n",
    "    elif debug: \n",
    "        print(\"Loading Unssuccessful\\n\\n\")"
   ]
  },
  {
   "cell_type": "code",
   "execution_count": 78,
   "metadata": {},
   "outputs": [
    {
     "name": "stderr",
     "output_type": "stream",
     "text": [
      "Parsing nodes: 100%|██████████| 67/67 [00:00<00:00, 148.02it/s]\n",
      "Generating embeddings: 100%|██████████| 359/359 [00:21<00:00, 16.44it/s]\n"
     ]
    }
   ],
   "source": [
    "#Embedding the Document\n",
    "vector_index = VectorStoreIndex.from_documents(full_text,show_progress=debug)\n",
    "\n",
    "#Define Query Engines\n",
    "vector_query_engine = vector_index.as_query_engine()\n",
    "\n",
    "# define tools\n",
    "query_engine_tools = [\n",
    "    QueryEngineTool(\n",
    "        query_engine=vector_query_engine,\n",
    "        metadata=ToolMetadata(\n",
    "            name=\"vector_tool\",\n",
    "            description=(\n",
    "                f\"Useful for retrieving information from {file_name}\"\n",
    "            ),\n",
    "        ),\n",
    "    ),\n",
    "]\n",
    "\n",
    "#Build document specific agent\n",
    "\n",
    "agent = ReActAgent.from_tools(\n",
    "    query_engine_tools,\n",
    "    llm = llm,\n",
    "    verbose=debug,\n",
    ")\n",
    "\n",
    "#Index nodes for future multi-doc module\n",
    "objects = []\n",
    "\n",
    "file_summary = (\n",
    "    \"Use this index if you need to lookup specific facts about\"\n",
    "    f\" {file_name}.\"\n",
    ")\n",
    "\n",
    "node = IndexNode(\n",
    "    text=file_summary, index_id=file_name, obj=agent\n",
    ")\n",
    "objects.append(node)\n",
    "node_index = VectorStoreIndex(\n",
    "    objects=objects,\n",
    ")\n",
    "#Force citation\n",
    "query_engine = CitationQueryEngine.from_args(\n",
    "    index=node_index,\n",
    "    similarity_top_k = 4,\n",
    "    citation_chunk_size=512,\n",
    "    citation_chunk_overlap=20,\n",
    ")"
   ]
  },
  {
   "cell_type": "code",
   "execution_count": 91,
   "metadata": {},
   "outputs": [
    {
     "name": "stdout",
     "output_type": "stream",
     "text": [
      "> Running step b4c24817-f3f7-4738-b611-01ea2a4ac7d1. Step input: what happens in the first chapter\n",
      "\u001b[1;3;38;5;200mThought: The current language of the user is: English. I need to use a tool to help me answer the question.\n",
      "Action: vector_tool\n",
      "Action Input: {'input': 'first chapter'}\n",
      "\u001b[0m\u001b[1;3;34mObservation: Chapter 1\n",
      "\u001b[0m> Running step 4476badf-915c-4bba-8d09-21450d08f54d. Step input: None\n",
      "\u001b[1;3;38;5;200mThought: I can answer without using any more tools. I'll use the user's language to answer\n",
      "Answer: In the first chapter of Pride and Prejudice, the novel introduces the Bennet family, including the five daughters who are in need of suitable husbands. The arrival of Mr. Bingley, a wealthy young bachelor, sets off a series of events as the family hopes to marry off one of the daughters to him.\n",
      "\u001b[0m\n",
      "\n",
      " In the first chapter of Pride and Prejudice, the novel introduces the Bennet family, including the five daughters who are in need of suitable husbands. The arrival of Mr. Bingley, a wealthy young bachelor, sets off a series of events as the family hopes to marry off one of the daughters to him [1].\n"
     ]
    }
   ],
   "source": [
    "response = query_engine.query(\"what happens in the first chapter\")\n",
    "\n",
    "print(\"\\n\\n\",response)"
   ]
  }
 ],
 "metadata": {
  "kernelspec": {
   "display_name": "newenv",
   "language": "python",
   "name": "python3"
  },
  "language_info": {
   "codemirror_mode": {
    "name": "ipython",
    "version": 3
   },
   "file_extension": ".py",
   "mimetype": "text/x-python",
   "name": "python",
   "nbconvert_exporter": "python",
   "pygments_lexer": "ipython3",
   "version": "3.10.15"
  }
 },
 "nbformat": 4,
 "nbformat_minor": 2
}
