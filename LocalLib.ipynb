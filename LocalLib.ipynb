{
 "cells": [
  {
   "cell_type": "code",
   "execution_count": null,
   "metadata": {},
   "outputs": [],
   "source": [
    "#manage imports (will adjust as needed)\n",
    "from llama_index.core import (\n",
    "    VectorStoreIndex,\n",
    "    SummaryIndex,\n",
    "    SimpleDirectoryReader,\n",
    "    StorageContext,\n",
    "    load_index_from_storage,\n",
    "    Settings,\n",
    ")\n",
    "from dotenv import load_dotenv\n",
    "from openai import OpenAI\n",
    "from llama_index.core.schema import IndexNode\n",
    "from llama_index.core.agent import ReActAgent\n",
    "from llama_index.core.tools import QueryEngineTool, ToolMetadata\n",
    "from llama_index.embeddings.huggingface import HuggingFaceEmbedding\n",
    "\n",
    "embed_model = HuggingFaceEmbedding(model_name=\"BAAI/bge-small-en-v1.5\")\n",
    "load_dotenv()\n",
    "# Local llm for query engine\n",
    "api_key = 'ollama'\n",
    "model = \"llama3.2:latest\"\n",
    "base_url = 'http://localhost:11434/v1/'\n",
    "\n",
    "client = OpenAI(\n",
    "    base_url=base_url,\n",
    "    api_key=api_key\n",
    ")\n",
    "Settings.llm = client\n",
    "Settings.embed_model = embed_model\n",
    "Settings.chunk_size = 512"
   ]
  },
  {
   "cell_type": "markdown",
   "metadata": {},
   "source": [
    "Document text extraction and processing\n"
   ]
  },
  {
   "cell_type": "code",
   "execution_count": null,
   "metadata": {},
   "outputs": [],
   "source": [
    "import os\n",
    "\n",
    "def append_supported_filenames(directory_path, file_list, extensions=(\".txt\", \".pdf\", \".epub\")):\n",
    "    \"\"\"\n",
    "    Appends the names of supported files (e.g., .txt, .pdf, .epub) in the given directory to the provided list.\n",
    "\n",
    "    Args:\n",
    "        directory_path (str): The path to the directory containing the files.\n",
    "        file_list (list): The list to which file names will be appended.\n",
    "        extensions (tuple): A tuple of allowed file extensions. Default is (\".txt\", \".pdf\", \".epub\").\n",
    "\n",
    "    Returns:\n",
    "        None: Modifies the input list in place.\n",
    "    \"\"\"\n",
    "    if not os.path.isdir(directory_path):\n",
    "        raise ValueError(f\"The path '{directory_path}' is not a valid directory.\")\n",
    "    \n",
    "    for item in os.listdir(directory_path):\n",
    "        if os.path.isfile(os.path.join(directory_path, item)) and item.lower().endswith(extensions):\n",
    "            file_list.append(item)"
   ]
  },
  {
   "cell_type": "code",
   "execution_count": null,
   "metadata": {},
   "outputs": [],
   "source": [
    "documents = [] #suppose this is a list of the name of the documents in the directory \"documents\"\n",
    "append_supported_filenames(\"/documents\", documents)\n",
    "extracted_docs = {}\n",
    "for doc in documents:\n",
    "    extracted_docs[doc] = SimpleDirectoryReader(\n",
    "        input_files = [f\"documents/{doc}\"],\n",
    "    ).load_data()"
   ]
  }
 ],
 "metadata": {
  "kernelspec": {
   "display_name": "base",
   "language": "python",
   "name": "python3"
  },
  "language_info": {
   "name": "python",
   "version": "3.10.14"
  }
 },
 "nbformat": 4,
 "nbformat_minor": 2
}
